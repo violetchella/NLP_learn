{
 "cells": [
  {
   "cell_type": "code",
   "execution_count": 5,
   "metadata": {},
   "outputs": [
    {
     "ename": "TypeError",
     "evalue": "add() takes exactly 2 positional arguments (3 given)",
     "output_type": "error",
     "traceback": [
      "\u001b[1;31m---------------------------------------------------------------------------\u001b[0m",
      "\u001b[1;31mTypeError\u001b[0m                                 Traceback (most recent call last)",
      "Cell \u001b[1;32mIn[5], line 59\u001b[0m\n\u001b[0;32m     56\u001b[0m     \u001b[39mreturn\u001b[39;00m doc\n\u001b[0;32m     58\u001b[0m text \u001b[39m=\u001b[39m \u001b[39m\"\u001b[39m\u001b[39mJohn is the father of Michael and Michael is the son of John\u001b[39m\u001b[39m\"\u001b[39m\n\u001b[1;32m---> 59\u001b[0m find_father_son_relationship(text)\n",
      "Cell \u001b[1;32mIn[5], line 44\u001b[0m, in \u001b[0;36mfind_father_son_relationship\u001b[1;34m(text)\u001b[0m\n\u001b[0;32m     41\u001b[0m pattern_son \u001b[39m=\u001b[39m [{\u001b[39m\"\u001b[39m\u001b[39mLOWER\u001b[39m\u001b[39m\"\u001b[39m: \u001b[39m\"\u001b[39m\u001b[39mson\u001b[39m\u001b[39m\"\u001b[39m}]\n\u001b[0;32m     43\u001b[0m \u001b[39m# Custom pattern for father-son relationship\u001b[39;00m\n\u001b[1;32m---> 44\u001b[0m matcher\u001b[39m.\u001b[39;49madd(\u001b[39m\"\u001b[39;49m\u001b[39mFatherSonRelationship\u001b[39;49m\u001b[39m\"\u001b[39;49m, \u001b[39mNone\u001b[39;49;00m, [pattern_father, pattern_son])\n\u001b[0;32m     46\u001b[0m matches \u001b[39m=\u001b[39m matcher(doc)\n\u001b[0;32m     47\u001b[0m \u001b[39mfor\u001b[39;00m match_id, start, end \u001b[39min\u001b[39;00m matches:\n",
      "File \u001b[1;32m~\\AppData\\Local\\Packages\\PythonSoftwareFoundation.Python.3.10_qbz5n2kfra8p0\\LocalCache\\local-packages\\Python310\\site-packages\\spacy\\matcher\\matcher.pyx:92\u001b[0m, in \u001b[0;36mspacy.matcher.matcher.Matcher.add\u001b[1;34m()\u001b[0m\n",
      "\u001b[1;31mTypeError\u001b[0m: add() takes exactly 2 positional arguments (3 given)"
     ]
    }
   ],
   "source": [
    "# import spacy\n",
    "\n",
    "# # Load spacy model\n",
    "# nlp = spacy.load(\"en_core_web_sm\")  # or any other suitable language model\n",
    "\n",
    "# # Define the text to be analyzed\n",
    "# text = \"John is the father of Michael and Michael is the son of John\"\n",
    "\n",
    "# # Process the text with spacy pipeline\n",
    "# doc = nlp(text)\n",
    "\n",
    "# # Find father and son relationship using rule-based matching\n",
    "# father_son_relation = False\n",
    "\n",
    "# for sent in doc.sents:\n",
    "#     for token in sent:\n",
    "#         if token.text.lower() == \"father\":\n",
    "#             father_chunk = token.head\n",
    "#             for child_token in father_chunk.children:\n",
    "#                 if child_token.text == \"son\":\n",
    "#                     father_son_relation = True\n",
    "\n",
    "# # Print the relationship label\n",
    "# if father_son_relation:\n",
    "#     print(\"Father and son relationship identified.\")\n",
    "# else:\n",
    "#     print(\"No father and son relationship found.\")\n",
    "\n",
    "#     print(child_token.text)\n",
    "\n",
    "import spacy\n",
    "from spacy.matcher import Matcher\n",
    "\n",
    "nlp = spacy.load(\"en_core_web_sm\")\n",
    "\n",
    "def find_father_son_relationship(text):\n",
    "    doc = nlp(text)\n",
    "    matcher = Matcher(nlp.vocab)\n",
    "\n",
    "    pattern_father = [{\"LOWER\": \"father\"}]\n",
    "    pattern_son = [{\"LOWER\": \"son\"}]\n",
    "\n",
    "    # Custom pattern for father-son relationship\n",
    "    matcher.add(\"FatherSonRelationship\", None, [pattern_father, pattern_son])\n",
    "\n",
    "    matches = matcher(doc)\n",
    "    for match_id, start, end in matches:\n",
    "        span = doc[start:end]\n",
    "        context = doc[max(start - 5, 0):min(end + 5, len(doc))] # Extract the context of the father-son relationship\n",
    "        relationship_type = \"unknown\"        # Add more logic or rules if necessary to determine the relationship type (e.g., biological, adopted)\n",
    "        print(f\"Father-Son: {span.text} | Relationship type: {relationship_type} | Context: {context.text}\")\n",
    "\n",
    "    # Return the document with added entity labels if needed\n",
    "    return doc\n",
    "\n",
    "text = \"John is the father of Michael and Michael is the son of John\"\n",
    "find_father_son_relationship(text)"
   ]
  }
 ],
 "metadata": {
  "kernelspec": {
   "display_name": "Python 3",
   "language": "python",
   "name": "python3"
  },
  "language_info": {
   "codemirror_mode": {
    "name": "ipython",
    "version": 3
   },
   "file_extension": ".py",
   "mimetype": "text/x-python",
   "name": "python",
   "nbconvert_exporter": "python",
   "pygments_lexer": "ipython3",
   "version": "3.10.11"
  },
  "orig_nbformat": 4
 },
 "nbformat": 4,
 "nbformat_minor": 2
}
