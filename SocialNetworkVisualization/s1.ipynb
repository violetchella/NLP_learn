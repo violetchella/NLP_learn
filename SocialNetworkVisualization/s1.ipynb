{
 "cells": [
  {
   "cell_type": "code",
   "execution_count": 1,
   "metadata": {},
   "outputs": [],
   "source": [
    "import pandas as pd #data upload\n",
    "import matplotlib.pyplot as plt #visualize\n",
    "import networkx as nx #graphic visual\n"
   ]
  },
  {
   "cell_type": "code",
   "execution_count": 5,
   "metadata": {},
   "outputs": [
    {
     "data": {
      "text/html": [
       "<div>\n",
       "<style scoped>\n",
       "    .dataframe tbody tr th:only-of-type {\n",
       "        vertical-align: middle;\n",
       "    }\n",
       "\n",
       "    .dataframe tbody tr th {\n",
       "        vertical-align: top;\n",
       "    }\n",
       "\n",
       "    .dataframe thead th {\n",
       "        text-align: right;\n",
       "    }\n",
       "</style>\n",
       "<table border=\"1\" class=\"dataframe\">\n",
       "  <thead>\n",
       "    <tr style=\"text-align: right;\">\n",
       "      <th></th>\n",
       "      <th>user_name</th>\n",
       "      <th>follows_who</th>\n",
       "      <th>days</th>\n",
       "    </tr>\n",
       "  </thead>\n",
       "  <tbody>\n",
       "    <tr>\n",
       "      <th>0</th>\n",
       "      <td>Anne</td>\n",
       "      <td>Carmen</td>\n",
       "      <td>200</td>\n",
       "    </tr>\n",
       "    <tr>\n",
       "      <th>1</th>\n",
       "      <td>Betty</td>\n",
       "      <td>Carmen</td>\n",
       "      <td>20</td>\n",
       "    </tr>\n",
       "    <tr>\n",
       "      <th>2</th>\n",
       "      <td>Carmen</td>\n",
       "      <td>Dillan</td>\n",
       "      <td>30</td>\n",
       "    </tr>\n",
       "    <tr>\n",
       "      <th>3</th>\n",
       "      <td>Jessica</td>\n",
       "      <td>Carmen</td>\n",
       "      <td>100</td>\n",
       "    </tr>\n",
       "    <tr>\n",
       "      <th>4</th>\n",
       "      <td>Dillan</td>\n",
       "      <td>Carmen</td>\n",
       "      <td>50</td>\n",
       "    </tr>\n",
       "  </tbody>\n",
       "</table>\n",
       "</div>"
      ],
      "text/plain": [
       "  user_name follows_who  days\n",
       "0      Anne      Carmen   200\n",
       "1     Betty      Carmen    20\n",
       "2    Carmen      Dillan    30\n",
       "3   Jessica      Carmen   100\n",
       "4    Dillan      Carmen    50"
      ]
     },
     "execution_count": 5,
     "metadata": {},
     "output_type": "execute_result"
    }
   ],
   "source": [
    "df=pd.df = pd.read_csv(\"data_csv/social_media.csv\")\n",
    "df.head()"
   ]
  },
  {
   "cell_type": "code",
   "execution_count": 6,
   "metadata": {},
   "outputs": [
    {
     "data": {
      "text/plain": [
       "NodeView(('Anne', 'Carmen', 'Betty', 'Dillan', 'Jessica', 'Keth'))"
      ]
     },
     "execution_count": 6,
     "metadata": {},
     "output_type": "execute_result"
    }
   ],
   "source": [
    "#directed graph for flowing the direction between the people like who follows who\n",
    "g1=nx.DiGraph()\n",
    "g1=g2=nx.from_pandas_edgelist(df,source='user_name', target='follows_who',edge_attr='days')  # extracting nodes (user_name) and edges(follows who) and linked attribute (days)\n",
    "g1.nodes() # printing all the nodes-heads"
   ]
  },
  {
   "cell_type": "code",
   "execution_count": 16,
   "metadata": {},
   "outputs": [
    {
     "data": {
      "text/plain": [
       "[4.0, 0.6, 0.4, 1.0, 2.0, 2.0]"
      ]
     },
     "execution_count": 16,
     "metadata": {},
     "output_type": "execute_result"
    }
   ],
   "source": [
    "#Extract the weights  that links the nodes and edges\n",
    "\n",
    "wt=list(nx.get_edge_attributes(g1, 'days').values()) #big values\n",
    "wt=[i/50 for i in wt]                                # so divided by 50 .. so the thickness between the nodes and edges are viewed clearly\n",
    "wt"
   ]
  },
  {
   "cell_type": "code",
   "execution_count": 18,
   "metadata": {},
   "outputs": [
    {
     "data": {
      "image/png": "[encoded data removed]",
      "text/plain": [
       "<Figure size 640x480 with 1 Axes>"
      ]
     },
     "metadata": {},
     "output_type": "display_data"
    }
   ],
   "source": [
    "#setting the style of the layout\n",
    "\n",
    "pos=nx.spring_layout(g1)\n",
    "nx.draw_networkx_nodes(g1,pos, node_size=500, alpha=0.5)\n",
    "nx.draw_networkx_edges(g1,pos, width=wt,edge_color='red')\n",
    "nx.draw_networkx_labels(g1,pos)\n",
    "plt.show()"
   ]
  }
 ],
 "metadata": {
  "kernelspec": {
   "display_name": "base",
   "language": "python",
   "name": "python3"
  },
  "language_info": {
   "codemirror_mode": {
    "name": "ipython",
    "version": 3
   },
   "file_extension": ".py",
   "mimetype": "text/x-python",
   "name": "python",
   "nbconvert_exporter": "python",
   "pygments_lexer": "ipython3",
   "version": "3.11.4"
  },
  "orig_nbformat": 4
 },
 "nbformat": 4,
 "nbformat_minor": 2
}
